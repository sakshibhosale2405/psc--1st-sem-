{
  "nbformat": 4,
  "nbformat_minor": 0,
  "metadata": {
    "colab": {
      "provenance": [],
      "authorship_tag": "ABX9TyONo9JxnBK/e8IPheeTb3eM",
      "include_colab_link": true
    },
    "kernelspec": {
      "name": "python3",
      "display_name": "Python 3"
    },
    "language_info": {
      "name": "python"
    }
  },
  "cells": [
    {
      "cell_type": "markdown",
      "metadata": {
        "id": "view-in-github",
        "colab_type": "text"
      },
      "source": [
        "<a href=\"https://colab.research.google.com/github/sakshibhosale2405/psc--1st-sem-/blob/main/practical.ipynb\" target=\"_parent\"><img src=\"https://colab.research.google.com/assets/colab-badge.svg\" alt=\"Open In Colab\"/></a>"
      ]
    },
    {
      "cell_type": "code",
      "execution_count": 2,
      "metadata": {
        "colab": {
          "base_uri": "https://localhost:8080/"
        },
        "id": "dxQRrQ_w7tEb",
        "outputId": "70ffa33d-45a4-4e97-e25b-3330e58d467d"
      },
      "outputs": [
        {
          "output_type": "stream",
          "name": "stdout",
          "text": [
            "enter a number: 7\n",
            "7x1=7\n",
            "7x2=14\n",
            "7x3=21\n",
            "7x4=28\n",
            "7x5=35\n",
            "7x6=42\n",
            "7x7=49\n",
            "7x8=56\n",
            "7x9=63\n",
            "7x10=70\n"
          ]
        }
      ],
      "source": [
        "num=int(input(\"enter a number: \"))\n",
        "for i in range(1,11):\n",
        "  print(f\"{num}x{i}={num*i}\")"
      ]
    },
    {
      "cell_type": "code",
      "source": [
        "\n",
        "def calculate_shipping_cost(weight):\n",
        "    if weight <= 10:\n",
        "        return weight * 5\n",
        "    else:\n",
        "        return 10 * 5 + (weight - 10) * 4\n",
        "\n",
        "calculate_shipping_cost(15)"
      ],
      "metadata": {
        "colab": {
          "base_uri": "https://localhost:8080/"
        },
        "id": "dF6JQXix71HH",
        "outputId": "d07a1dff-2852-48a0-961a-d1e28b2af0a9"
      },
      "execution_count": 6,
      "outputs": [
        {
          "output_type": "execute_result",
          "data": {
            "text/plain": [
              "70"
            ]
          },
          "metadata": {},
          "execution_count": 6
        }
      ]
    },
    {
      "cell_type": "code",
      "source": [
        "def check_failing_grades(grade_lists):\n",
        "    for grade_list in grade_lists: # this line is added to iterate over the grade lists within grade_lists\n",
        "        for grade in grade_list: # Iterate through each grade in the current grade_list\n",
        "            if grade < 40:\n",
        "                return True  # Return True if any grade is less than 40\n",
        "            # The else statement here was causing the function to exit prematurely\n",
        "            # If the first grade is not failing, it would return False without checking others\n",
        "            #else:\n",
        "                #return False\n",
        "    return False  # If the loop completes without finding a failing grade, return False\n",
        "\n",
        "# Test the function\n",
        "grade_lists = [[90, 80, 70], [30, 50, 60], [70, 80, 90]]\n",
        "print(check_failing_grades(grade_lists))"
      ],
      "metadata": {
        "colab": {
          "base_uri": "https://localhost:8080/"
        },
        "id": "RXnEQEqC-lVl",
        "outputId": "fcbcc6fe-fcdb-418b-bc19-ecfb19731183"
      },
      "execution_count": 17,
      "outputs": [
        {
          "output_type": "stream",
          "name": "stdout",
          "text": [
            "True\n"
          ]
        }
      ]
    },
    {
      "cell_type": "code",
      "source": [
        " def calculate_total_cost(cart):\n",
        "\n",
        "    total_cost = 0\n",
        "\n",
        "    for item, price in cart.items():\n",
        "      total_cost += price\n",
        "\n",
        "    return total_cost\n",
        "\n",
        "    # Example usage:\n",
        "cart = {\"apple\": 1.00, \"banana\": 0.50, \"orange\": 1.50}\n",
        "total_cost = calculate_total_cost(cart)\n",
        " print(total_cost)  # Output: 3.00\n",
        "\n",
        "\n",
        "\n",
        "\n",
        ""
      ],
      "metadata": {
        "colab": {
          "base_uri": "https://localhost:8080/"
        },
        "id": "o4--8qQuBvBk",
        "outputId": "57f4eb76-b636-483a-c9ac-06d4b780b314"
      },
      "execution_count": 22,
      "outputs": [
        {
          "output_type": "stream",
          "name": "stdout",
          "text": [
            "3.0\n"
          ]
        }
      ]
    },
    {
      "cell_type": "code",
      "source": [
        "weather_forecast = { \"Monday\": \"sunny\", \"Tuesday\": \"rainy\", \"Wednesday\": \"cloudy\",\"Thursday\": \"sunny\", \"Friday\": \"rainy\",\"Saturday\": \"cloudy\", \"Sunday\": \"sunny\"}\n",
        "# Display the weather forecast for the next 7 days\n",
        "for day, forecast in weather_forecast.items():\n",
        "    print(f\"The weather forecast for {day} is {forecast}.\")"
      ],
      "metadata": {
        "colab": {
          "base_uri": "https://localhost:8080/"
        },
        "id": "RuCddMWTBtWs",
        "outputId": "7e41fd60-94db-435a-9cb9-443299328a89"
      },
      "execution_count": 1,
      "outputs": [
        {
          "output_type": "stream",
          "name": "stdout",
          "text": [
            "The weather forecast for Monday is sunny.\n",
            "The weather forecast for Tuesday is rainy.\n",
            "The weather forecast for Wednesday is cloudy.\n",
            "The weather forecast for Thursday is sunny.\n",
            "The weather forecast for Friday is rainy.\n",
            "The weather forecast for Saturday is cloudy.\n",
            "The weather forecast for Sunday is sunny.\n"
          ]
        }
      ]
    },
    {
      "cell_type": "code",
      "source": [
        "def find_highest_score(survey_results):\n",
        "    # Find the person with the highest score\n",
        "    highest_score_person = max(survey_results, key=lambda x: x[1])\n",
        "    return highest_score_person[0]\n",
        "# Example usage:\n",
        "survey_results = [(\"Alice\", 90), (\"Bob\", 80), (\"Charlie\", 95)]\n",
        "print(find_highest_score(survey_results))  # Output: \"Charlie\"\n",
        "\n",
        "\n",
        ""
      ],
      "metadata": {
        "colab": {
          "base_uri": "https://localhost:8080/"
        },
        "id": "_zOjk7QGhRa6",
        "outputId": "dc4d89db-05bd-46c5-f0df-1f512a8ecf3f"
      },
      "execution_count": 2,
      "outputs": [
        {
          "output_type": "stream",
          "name": "stdout",
          "text": [
            "Charlie\n"
          ]
        }
      ]
    },
    {
      "cell_type": "code",
      "source": [
        "def display_unique_products():\n",
        "    products = [\"Apple\", \"Banana\", \"Cherry\", \"Apple\", \"Date\",\"Elderberry\", \"Fig\", \"Grape\", \"Apple\", \"Date\"]\n",
        "    unique_products = set(products)\n",
        "    sorted_products = sorted(list(unique_products))\n",
        "    return sorted_products\n",
        "## Step 6: Call the function and display the result\n",
        "#\n",
        "result = display_unique_products()\n",
        "print(result)"
      ],
      "metadata": {
        "colab": {
          "base_uri": "https://localhost:8080/"
        },
        "id": "I64pLF10kYWw",
        "outputId": "8b285a4c-67f3-45ca-e74d-e89bea06bad0"
      },
      "execution_count": 4,
      "outputs": [
        {
          "output_type": "stream",
          "name": "stdout",
          "text": [
            "['Apple', 'Banana', 'Cherry', 'Date', 'Elderberry', 'Fig', 'Grape']\n"
          ]
        }
      ]
    },
    {
      "cell_type": "code",
      "source": [
        "# You are developing a contact management system. Write a program to store and retrieve contact details using a dictionary where names are keys, and phone numbers are values.\n",
        "def store_contact(contact_details, name, phone_number):\n",
        "    \"\"\"Stores a contact's details in the dictionary.\n",
        "\n",
        "    Args:\n",
        "        contact_details: The dictionary to store the details.\n",
        "        name: The name of the contact.\n",
        "        phone_number: The phone number of the contact.\n",
        "    \"\"\"\n",
        "\n",
        "    contact_details[name] = phone_number\n",
        "    print(f\"Contact details for {name} stored successfully.\")\n",
        "\n",
        "def retrieve_contact(contact_details, name):\n",
        "    \"\"\"Retrieves a contact's details from the dictionary.\n",
        "\n",
        "    Args:\n",
        "        contact_details: The dictionary to retrieve the details from.\n",
        "        name: The name of the contact.\n",
        "\n",
        "    Returns:\n",
        "        The phone number of the contact if found, otherwise None.\n",
        "    \"\"\"\n",
        "\n",
        "    if name in contact_details:\n",
        "        return contact_details[name]\n",
        "    else:\n",
        "        print(f\"Contact details for {name} not found.\")\n",
        "        return None\n",
        "\n",
        "# Initialize an empty dictionary to store contact details\n",
        "contact_details = {}\n",
        "\n",
        "# Store contact details for John\n",
        "store_contact(contact_details, \"John\", \"123-456-7890\")\n",
        "\n",
        "# Store contact details for Jane\n",
        "store_contact(contact_details, \"Jane\", \"987-654-3210\")\n",
        "\n",
        "# Retrieve contact details for John\n",
        "phone_number = retrieve_contact(contact_details, \"John\")\n",
        "if phone_number:\n",
        "    print(f\"John's phone number is: {phone_number}\")\n",
        "\n",
        "# Retrieve contact details for Peter\n",
        "phone_number = retrieve_contact(contact_details, \"Peter\")"
      ],
      "metadata": {
        "colab": {
          "base_uri": "https://localhost:8080/"
        },
        "id": "DS4tu5A-lJKQ",
        "outputId": "d8ae811a-c9d2-4911-e63b-2788f99e5981"
      },
      "execution_count": 6,
      "outputs": [
        {
          "output_type": "stream",
          "name": "stdout",
          "text": [
            "Contact details for John stored successfully.\n",
            "Contact details for Jane stored successfully.\n",
            "John's phone number is: 123-456-7890\n",
            "Contact details for Peter not found.\n"
          ]
        }
      ]
    },
    {
      "cell_type": "code",
      "source": [
        "# import re\n",
        "\n",
        "def mask_sensitive_info(text):\n",
        "  \"\"\"Masks sensitive information (e.g., credit card numbers) in a string.\n",
        "\n",
        "  Args:\n",
        "    text: The string to mask.\n",
        "\n",
        "  Returns:\n",
        "    The masked string.\n",
        "  \"\"\"\n",
        "  masked_text = re.sub(r'\\d', '*', text)\n",
        "  return masked_text\n",
        "\n",
        "# Example usage\n",
        "text = \"My credit card number is 1234-5678-9012-3456.\"\n",
        "masked_text = mask_sensitive_info(text)\n",
        "print(masked_text)  # Output: My credit card number is ****-****-****-3456."
      ],
      "metadata": {
        "colab": {
          "base_uri": "https://localhost:8080/"
        },
        "id": "_XP4dlNZmYyl",
        "outputId": "853a5102-cfed-4c3a-a7a9-932053a6794f"
      },
      "execution_count": 10,
      "outputs": [
        {
          "output_type": "stream",
          "name": "stdout",
          "text": [
            "My credit card number is ****-****-****-****.\n"
          ]
        }
      ]
    },
    {
      "cell_type": "code",
      "source": [
        "def display_menu():\n",
        "  \"\"\"Displays the cafe menu to the user.\"\"\"\n",
        "  print(\"\\nWelcome to our Cafe!\")\n",
        "  print(\"--------------------\")\n",
        "  print(\"Menu:\")\n",
        "  print(\"1. Coffee - $2.50\")\n",
        "  print(\"2. Tea - $1.50\")\n",
        "  print(\"3. Sandwich - $4.00\")\n",
        "  print(\"4. Pastry - $2.00\")\n",
        "  print(\"5. Exit\")\n",
        "  print(\"--------------------\")\n",
        "\n",
        "def calculate_total_bill(order):\n",
        "  \"\"\"Calculates the total bill including tax.\"\"\"\n",
        "  prices = {1: 2.50, 2: 1.50, 3: 4.00, 4: 2.00}  # Item prices\n",
        "  tax_rate = 0.08  # 8% tax\n",
        "\n",
        "  subtotal = sum(prices[item] * quantity for item, quantity in order.items())\n",
        "  tax = subtotal * tax_rate\n",
        "  total = subtotal + tax\n",
        "\n",
        "  return total\n",
        "\n",
        "def main():\n",
        "  \"\"\"Main function to run the cafe program.\"\"\"\n",
        "  order = {}  # Store the user's order\n",
        "\n",
        "  while True:\n",
        "    display_menu()\n",
        "    choice = input(\"Enter your choice (1-5): \")\n",
        "\n",
        "    if choice == '5':\n",
        "      break\n",
        "\n",
        "    if choice in ('1', '2', '3', '4'):\n",
        "      item = int(choice)\n",
        "      quantity = int(input(\"Enter quantity: \"))\n",
        "      order[item] = order.get(item, 0) + quantity  # Add to order\n",
        "    else:\n",
        "      print(\"Invalid choice. Please try again.\")\n",
        "\n",
        "  if order:\n",
        "    total_bill = calculate_total_bill(order)\n",
        "    print(\"\\nYour total bill is: $\", total_bill)\n",
        "  else:\n",
        "    print(\"\\nThank you for visiting!\")\n",
        "\n",
        "if __name__ == \"__main__\":\n",
        "  main()"
      ],
      "metadata": {
        "colab": {
          "base_uri": "https://localhost:8080/"
        },
        "id": "qrbNhOcWnW2z",
        "outputId": "25026262-bb40-4216-f10f-6b17414bcb9d"
      },
      "execution_count": 12,
      "outputs": [
        {
          "output_type": "stream",
          "name": "stdout",
          "text": [
            "\n",
            "Welcome to our Cafe!\n",
            "--------------------\n",
            "Menu:\n",
            "1. Coffee - $2.50\n",
            "2. Tea - $1.50\n",
            "3. Sandwich - $4.00\n",
            "4. Pastry - $2.00\n",
            "5. Exit\n",
            "--------------------\n",
            "Enter your choice (1-5): 1\n",
            "Enter quantity: 1\n",
            "\n",
            "Welcome to our Cafe!\n",
            "--------------------\n",
            "Menu:\n",
            "1. Coffee - $2.50\n",
            "2. Tea - $1.50\n",
            "3. Sandwich - $4.00\n",
            "4. Pastry - $2.00\n",
            "5. Exit\n",
            "--------------------\n",
            "Enter your choice (1-5): 5\n",
            "\n",
            "Your total bill is: $ 2.7\n"
          ]
        }
      ]
    },
    {
      "cell_type": "code",
      "source": [
        "def is_eligible_for_bonus(performance_score, years_of_service):\n",
        "    \"\"\"Determines if an employee is eligible for a bonus.\n",
        "\n",
        "    Args:\n",
        "        performance_score: The employee's performance score (1-10).\n",
        "        years_of_service: The employee's years of service.\n",
        "\n",
        "    Returns:\n",
        "        True if the employee is eligible for a bonus, False otherwise.\n",
        "    \"\"\"\n",
        "\n",
        "    if performance_score >= 8 and years_of_service >= 5:\n",
        "        return True  # Eligible for bonus\n",
        "    else:\n",
        "        return False  # Not eligible\n",
        "\n",
        "# Example usage\n",
        "performance_score = 7\n",
        "years_of_service = 6\n",
        "\n",
        "if is_eligible_for_bonus(performance_score, years_of_service):\n",
        "    print(\"Employee is eligible for a bonus.\")\n",
        "else:\n",
        "    print(\"Employee is not eligible for a bonus.\")"
      ],
      "metadata": {
        "colab": {
          "base_uri": "https://localhost:8080/"
        },
        "id": "JsCchs44oGvb",
        "outputId": "751cd7a0-02a4-4657-947c-5ebbbd7cda96"
      },
      "execution_count": 14,
      "outputs": [
        {
          "output_type": "stream",
          "name": "stdout",
          "text": [
            "Employee is not eligible for a bonus.\n"
          ]
        }
      ]
    },
    {
      "cell_type": "code",
      "source": [
        "def calculate_monthly_interest(principal, annual_interest_rate):\n",
        "    \"\"\"Calculates the monthly interest for a savings account.\n",
        "\n",
        "    Args:\n",
        "        principal: The principal amount in the account.\n",
        "        annual_interest_rate: The annual interest rate (as a decimal, e.g., 0.05 for 5%).\n",
        "\n",
        "    Returns:\n",
        "        The monthly interest earned.\n",
        "    \"\"\"\n",
        "\n",
        "    monthly_interest_rate = annual_interest_rate / 12  # Convert annual rate to monthly rate\n",
        "    monthly_interest = principal * monthly_interest_rate  # Calculate monthly interest\n",
        "\n",
        "    return monthly_interest\n",
        "\n",
        "# Example usage\n",
        "principal = 10000  # Principal amount\n",
        "annual_interest_rate = 0.05  # 5% annual interest rate\n",
        "\n",
        "monthly_interest = calculate_monthly_interest(principal, annual_interest_rate)\n",
        "print(f\"Monthly interest earned: ${monthly_interest:.2f}\")"
      ],
      "metadata": {
        "colab": {
          "base_uri": "https://localhost:8080/"
        },
        "id": "OXAjb-O8ozjV",
        "outputId": "6e4f1a81-8d22-4053-8dd8-8381eaf3d4d2"
      },
      "execution_count": 18,
      "outputs": [
        {
          "output_type": "stream",
          "name": "stdout",
          "text": [
            "Monthly interest earned: $41.67\n"
          ]
        }
      ]
    },
    {
      "cell_type": "code",
      "source": [],
      "metadata": {
        "id": "ry5L-D4qpFo_"
      },
      "execution_count": null,
      "outputs": []
    }
  ]
}