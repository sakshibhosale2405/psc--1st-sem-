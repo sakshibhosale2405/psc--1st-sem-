{
  "nbformat": 4,
  "nbformat_minor": 0,
  "metadata": {
    "colab": {
      "provenance": [],
      "authorship_tag": "ABX9TyOl+OiqOwbQHC6q5tdxwipQ",
      "include_colab_link": true
    },
    "kernelspec": {
      "name": "python3",
      "display_name": "Python 3"
    },
    "language_info": {
      "name": "python"
    }
  },
  "cells": [
    {
      "cell_type": "markdown",
      "metadata": {
        "id": "view-in-github",
        "colab_type": "text"
      },
      "source": [
        "<a href=\"https://colab.research.google.com/github/sakshibhosale2405/psc--1st-sem-/blob/main/psc_homework_1.ipynb\" target=\"_parent\"><img src=\"https://colab.research.google.com/assets/colab-badge.svg\" alt=\"Open In Colab\"/></a>"
      ]
    },
    {
      "cell_type": "code",
      "execution_count": 1,
      "metadata": {
        "id": "pws0J4oLthEP"
      },
      "outputs": [],
      "source": [
        "s=\"this is My First Python programming class and i am learNING python string and its function \""
      ]
    },
    {
      "cell_type": "code",
      "source": [
        "s"
      ],
      "metadata": {
        "colab": {
          "base_uri": "https://localhost:8080/",
          "height": 35
        },
        "id": "vJemwgmPuEBl",
        "outputId": "026310c0-bd2b-4e0e-a10d-db060455f166"
      },
      "execution_count": 2,
      "outputs": [
        {
          "output_type": "execute_result",
          "data": {
            "text/plain": [
              "'this is My First Python programming class and i am learNING python string and its function '"
            ],
            "application/vnd.google.colaboratory.intrinsic+json": {
              "type": "string"
            }
          },
          "metadata": {},
          "execution_count": 2
        }
      ]
    },
    {
      "cell_type": "code",
      "source": [
        "#que:-1"
      ],
      "metadata": {
        "id": "iYRo9AwUhOTq"
      },
      "execution_count": null,
      "outputs": []
    },
    {
      "cell_type": "code",
      "source": [
        "s[1:300:3]"
      ],
      "metadata": {
        "colab": {
          "base_uri": "https://localhost:8080/",
          "height": 35
        },
        "id": "W-8RoXhEuFW8",
        "outputId": "c9828aa9-17a5-41dd-f0b1-f3be54431355"
      },
      "execution_count": 3,
      "outputs": [
        {
          "output_type": "execute_result",
          "data": {
            "text/plain": [
              "'h   r tnrrmglsnimeNGyosi dtfco'"
            ],
            "application/vnd.google.colaboratory.intrinsic+json": {
              "type": "string"
            }
          },
          "metadata": {},
          "execution_count": 3
        }
      ]
    },
    {
      "cell_type": "code",
      "source": [
        "#que:-2"
      ],
      "metadata": {
        "id": "XCbYN7N0hWBo"
      },
      "execution_count": null,
      "outputs": []
    },
    {
      "cell_type": "code",
      "source": [
        "s[::-1]"
      ],
      "metadata": {
        "colab": {
          "base_uri": "https://localhost:8080/",
          "height": 35
        },
        "id": "kgLps5tEuSMf",
        "outputId": "4f0f4ed3-a98c-4cd7-f89b-09368fd3962a"
      },
      "execution_count": 4,
      "outputs": [
        {
          "output_type": "execute_result",
          "data": {
            "text/plain": [
              "' noitcnuf sti dna gnirts nohtyp GNINrael ma i dna ssalc gnimmargorp nohtyP tsriF yM si siht'"
            ],
            "application/vnd.google.colaboratory.intrinsic+json": {
              "type": "string"
            }
          },
          "metadata": {},
          "execution_count": 4
        }
      ]
    },
    {
      "cell_type": "code",
      "source": [
        "#que:-3"
      ],
      "metadata": {
        "id": "gsZYpVtLheJz"
      },
      "execution_count": null,
      "outputs": []
    },
    {
      "cell_type": "code",
      "source": [
        "s = s.upper()"
      ],
      "metadata": {
        "id": "srbq-C5_vZpB"
      },
      "execution_count": 9,
      "outputs": []
    },
    {
      "cell_type": "code",
      "source": [
        "s"
      ],
      "metadata": {
        "colab": {
          "base_uri": "https://localhost:8080/",
          "height": 35
        },
        "id": "l3wLzekkxCBt",
        "outputId": "8793a4a4-b53c-48d4-bf69-e85b11305251"
      },
      "execution_count": 10,
      "outputs": [
        {
          "output_type": "execute_result",
          "data": {
            "text/plain": [
              "'THIS IS MY FIRST PYTHON PROGRAMMING CLASS AND I AM LEARNING PYTHON STRING AND ITS FUNCTION '"
            ],
            "application/vnd.google.colaboratory.intrinsic+json": {
              "type": "string"
            }
          },
          "metadata": {},
          "execution_count": 10
        }
      ]
    },
    {
      "cell_type": "code",
      "source": [
        "s.split(' ')"
      ],
      "metadata": {
        "colab": {
          "base_uri": "https://localhost:8080/"
        },
        "id": "IuD66_rsxe0A",
        "outputId": "8cecee48-8e9a-4692-8c50-91ea4f0b3d4d"
      },
      "execution_count": 12,
      "outputs": [
        {
          "output_type": "execute_result",
          "data": {
            "text/plain": [
              "['THIS',\n",
              " 'IS',\n",
              " 'MY',\n",
              " 'FIRST',\n",
              " 'PYTHON',\n",
              " 'PROGRAMMING',\n",
              " 'CLASS',\n",
              " 'AND',\n",
              " 'I',\n",
              " 'AM',\n",
              " 'LEARNING',\n",
              " 'PYTHON',\n",
              " 'STRING',\n",
              " 'AND',\n",
              " 'ITS',\n",
              " 'FUNCTION',\n",
              " '']"
            ]
          },
          "metadata": {},
          "execution_count": 12
        }
      ]
    },
    {
      "cell_type": "code",
      "source": [
        "#que:-4"
      ],
      "metadata": {
        "id": "vkm2MJY3hGtq"
      },
      "execution_count": null,
      "outputs": []
    },
    {
      "cell_type": "code",
      "source": [
        "s=s.lower()"
      ],
      "metadata": {
        "id": "D0Z7aSgYx92e"
      },
      "execution_count": 13,
      "outputs": []
    },
    {
      "cell_type": "code",
      "source": [
        "s"
      ],
      "metadata": {
        "colab": {
          "base_uri": "https://localhost:8080/",
          "height": 35
        },
        "id": "bOHQ6TsEyd2U",
        "outputId": "51c66188-1c3a-48cf-d6e5-04d91c875f88"
      },
      "execution_count": 14,
      "outputs": [
        {
          "output_type": "execute_result",
          "data": {
            "text/plain": [
              "'this is my first python programming class and i am learning python string and its function '"
            ],
            "application/vnd.google.colaboratory.intrinsic+json": {
              "type": "string"
            }
          },
          "metadata": {},
          "execution_count": 14
        }
      ]
    },
    {
      "cell_type": "code",
      "source": [
        "#que:-5"
      ],
      "metadata": {
        "id": "U8eBlhf6hAlV"
      },
      "execution_count": null,
      "outputs": []
    },
    {
      "cell_type": "code",
      "source": [
        "s.capitalize()"
      ],
      "metadata": {
        "colab": {
          "base_uri": "https://localhost:8080/",
          "height": 35
        },
        "id": "Yg5bmoNdyj8p",
        "outputId": "961993a5-613c-41fd-9aef-1d680d411000"
      },
      "execution_count": 15,
      "outputs": [
        {
          "output_type": "execute_result",
          "data": {
            "text/plain": [
              "'This is my first python programming class and i am learning python string and its function '"
            ],
            "application/vnd.google.colaboratory.intrinsic+json": {
              "type": "string"
            }
          },
          "metadata": {},
          "execution_count": 15
        }
      ]
    },
    {
      "cell_type": "code",
      "source": [
        "#que:-6"
      ],
      "metadata": {
        "id": "Yyb0u_01y5ye"
      },
      "execution_count": 1,
      "outputs": []
    },
    {
      "cell_type": "code",
      "source": [
        "# isalnum() - This function checks that if all the charecters in the string are alphanumeric if yes it prints True else it prints False.\n",
        "# Note - Spaces in between alphanumeric charecters cause the output of the code to be False.\n",
        "\n",
        "# isalpha() - This function cheks that if all the charecters in the string are alphabets if yes it prints True else it prints False.\n",
        "# Note - Spaces in between alphabet charecters cause the output of the code to be False"
      ],
      "metadata": {
        "id": "lm1LpW60Uv2r"
      },
      "execution_count": null,
      "outputs": []
    },
    {
      "cell_type": "code",
      "source": [
        "#que:-7"
      ],
      "metadata": {
        "id": "J2kGN56KgvjI"
      },
      "execution_count": null,
      "outputs": []
    },
    {
      "cell_type": "code",
      "source": [
        "s='this \\tis \\tMy \\tFirst \\tPython \\tprogramming \\tclass \\tand \\ti \\tam \\tlearNING \\tpython \\tstring \\tand \\tits \\tfunction'"
      ],
      "metadata": {
        "id": "sZDNi0CWVqHA"
      },
      "execution_count": 12,
      "outputs": []
    },
    {
      "cell_type": "code",
      "source": [
        "s.expandtabs()"
      ],
      "metadata": {
        "colab": {
          "base_uri": "https://localhost:8080/",
          "height": 35
        },
        "id": "B58k6yuOXqWo",
        "outputId": "f7073ef5-9d6b-4f2f-9672-1bd8053a7b73"
      },
      "execution_count": 13,
      "outputs": [
        {
          "output_type": "execute_result",
          "data": {
            "text/plain": [
              "'this    is      My      First   Python  programming     class   and     i       am      learNING        python  string  and     its     function'"
            ],
            "application/vnd.google.colaboratory.intrinsic+json": {
              "type": "string"
            }
          },
          "metadata": {},
          "execution_count": 13
        }
      ]
    },
    {
      "cell_type": "code",
      "source": [
        "#que:-8"
      ],
      "metadata": {
        "id": "r9d5oR9Rgmqt"
      },
      "execution_count": null,
      "outputs": []
    },
    {
      "cell_type": "code",
      "source": [
        "a=\"  mit vpu  \""
      ],
      "metadata": {
        "id": "mq3chkt5ZEFW"
      },
      "execution_count": 15,
      "outputs": []
    },
    {
      "cell_type": "code",
      "source": [
        "a.strip()"
      ],
      "metadata": {
        "colab": {
          "base_uri": "https://localhost:8080/",
          "height": 35
        },
        "id": "AmWLja_EaQvL",
        "outputId": "f141ad33-956a-4d27-d78e-713252f3f754"
      },
      "execution_count": 16,
      "outputs": [
        {
          "output_type": "execute_result",
          "data": {
            "text/plain": [
              "'mit vpu'"
            ],
            "application/vnd.google.colaboratory.intrinsic+json": {
              "type": "string"
            }
          },
          "metadata": {},
          "execution_count": 16
        }
      ]
    },
    {
      "cell_type": "code",
      "source": [
        "a.lstrip()"
      ],
      "metadata": {
        "colab": {
          "base_uri": "https://localhost:8080/",
          "height": 35
        },
        "id": "mTKrtIOaaVG0",
        "outputId": "83e74301-7c06-4e1a-9feb-37016318546d"
      },
      "execution_count": 17,
      "outputs": [
        {
          "output_type": "execute_result",
          "data": {
            "text/plain": [
              "'mit vpu  '"
            ],
            "application/vnd.google.colaboratory.intrinsic+json": {
              "type": "string"
            }
          },
          "metadata": {},
          "execution_count": 17
        }
      ]
    },
    {
      "cell_type": "code",
      "source": [
        "a.rstrip()"
      ],
      "metadata": {
        "colab": {
          "base_uri": "https://localhost:8080/",
          "height": 35
        },
        "id": "hRYZBgqtagS2",
        "outputId": "d88424fd-588f-42db-fc44-17d5bd7124a9"
      },
      "execution_count": 18,
      "outputs": [
        {
          "output_type": "execute_result",
          "data": {
            "text/plain": [
              "'  mit vpu'"
            ],
            "application/vnd.google.colaboratory.intrinsic+json": {
              "type": "string"
            }
          },
          "metadata": {},
          "execution_count": 18
        }
      ]
    },
    {
      "cell_type": "code",
      "source": [
        "#que:-9"
      ],
      "metadata": {
        "id": "g0kV3vSIgdte"
      },
      "execution_count": null,
      "outputs": []
    },
    {
      "cell_type": "code",
      "source": [
        "name=('sakshi')"
      ],
      "metadata": {
        "id": "FC3Y2Omran7K"
      },
      "execution_count": 28,
      "outputs": []
    },
    {
      "cell_type": "code",
      "source": [
        "name"
      ],
      "metadata": {
        "colab": {
          "base_uri": "https://localhost:8080/",
          "height": 35
        },
        "id": "IRf0qseAbG8H",
        "outputId": "1db24492-1deb-481d-b4e4-17e1ffd738c6"
      },
      "execution_count": 29,
      "outputs": [
        {
          "output_type": "execute_result",
          "data": {
            "text/plain": [
              "'sakshi'"
            ],
            "application/vnd.google.colaboratory.intrinsic+json": {
              "type": "string"
            }
          },
          "metadata": {},
          "execution_count": 29
        }
      ]
    },
    {
      "cell_type": "code",
      "source": [
        "name.replace('sakshi','mit vpu')"
      ],
      "metadata": {
        "colab": {
          "base_uri": "https://localhost:8080/",
          "height": 35
        },
        "id": "qgOpBAxKbLfk",
        "outputId": "43b28879-d65c-40a8-8d53-ceaef2c4f4c0"
      },
      "execution_count": 30,
      "outputs": [
        {
          "output_type": "execute_result",
          "data": {
            "text/plain": [
              "'mit vpu'"
            ],
            "application/vnd.google.colaboratory.intrinsic+json": {
              "type": "string"
            }
          },
          "metadata": {},
          "execution_count": 30
        }
      ]
    },
    {
      "cell_type": "code",
      "source": [
        "#que:-10"
      ],
      "metadata": {
        "id": "etZ6k0gEgO3h"
      },
      "execution_count": null,
      "outputs": []
    },
    {
      "cell_type": "code",
      "source": [
        "# Definition:\n",
        "\n",
        "# center() function is used to align the string in to the centre by adding Specified characters in both the sides of the string or with space by default,\n",
        "# then the string will have specified width  and if the total width is greater than the length of the string, the extra characters will be added equally\n",
        "# to both sides (or with one extra on either sides if the width is an odd number or string has odd number of charecters).\n"
      ],
      "metadata": {
        "id": "3AyWaFy0bmoN"
      },
      "execution_count": 31,
      "outputs": []
    },
    {
      "cell_type": "code",
      "source": [
        "a='sakshi'"
      ],
      "metadata": {
        "id": "UhUkOaGNdXuU"
      },
      "execution_count": 32,
      "outputs": []
    },
    {
      "cell_type": "code",
      "source": [
        "a.center(50,'@')"
      ],
      "metadata": {
        "colab": {
          "base_uri": "https://localhost:8080/",
          "height": 35
        },
        "id": "hKVE1iC0dj3d",
        "outputId": "21b0eb1f-4ff5-4edd-ead5-6ee75c8d169d"
      },
      "execution_count": 37,
      "outputs": [
        {
          "output_type": "execute_result",
          "data": {
            "text/plain": [
              "'@@@@@@@@@@@@@@@@@@@@@@sakshi@@@@@@@@@@@@@@@@@@@@@@'"
            ],
            "application/vnd.google.colaboratory.intrinsic+json": {
              "type": "string"
            }
          },
          "metadata": {},
          "execution_count": 37
        }
      ]
    },
    {
      "cell_type": "code",
      "source": [
        "#que:-11"
      ],
      "metadata": {
        "id": "AYkywc2WgC7r"
      },
      "execution_count": null,
      "outputs": []
    },
    {
      "cell_type": "code",
      "source": [
        "#Compiler - The code which we have written in the program gets converted into binary code(01) by the compiler because the computer knows only binary\n",
        "           # language. So basicaly compiler converts our code into binary code so that the code gets exicuted by the computer.\n"
      ],
      "metadata": {
        "id": "fiHATsyietRO"
      },
      "execution_count": 39,
      "outputs": []
    },
    {
      "cell_type": "code",
      "source": [
        "# Interpretor - It reads our code line by line and executs it immediately in a sequence manner and interpriting the code at the run time."
      ],
      "metadata": {
        "id": "mdWGAEBJe0wk"
      },
      "execution_count": 40,
      "outputs": []
    },
    {
      "cell_type": "code",
      "source": [
        "#que:-12"
      ],
      "metadata": {
        "id": "pFWQeVorf4Lt"
      },
      "execution_count": null,
      "outputs": []
    },
    {
      "cell_type": "code",
      "source": [
        "#  Python code is executed by an interpreter like CPython which reads and executes the code line by line at runtime. This is why Python\n",
        "#  is considered an interpreted language."
      ],
      "metadata": {
        "id": "BePtK252fNCu"
      },
      "execution_count": 41,
      "outputs": []
    },
    {
      "cell_type": "code",
      "source": [
        "#que:-13"
      ],
      "metadata": {
        "id": "ZGn5Mqgmfpst"
      },
      "execution_count": null,
      "outputs": []
    },
    {
      "cell_type": "code",
      "source": [
        "# There are many usecases of python such as:\n",
        "\n",
        "# 1. Pyhton is used in Cybersecurity.\n",
        "# 2. Python is used in Web development.   ( Django, Flask for building websites.)\n",
        "# 3. Python is used in Data analysis and mashin learning.   (Pandas, TensorFlow for data analysis and AI.)\n",
        "# 4. Python is used in Artifitial intelligence (Generative AI).\n",
        "# 5. Python is used in Internet Of Things (IOT).\n",
        "# 6. Python is used in Cloud computing.   ( Automating cloud services)\n",
        "# 7. Python is used in Game development.   (Pygame for game prototyping.)\n",
        "# 8. Python is used in Blockchain development."
      ],
      "metadata": {
        "id": "Y8JUUEptfWSH"
      },
      "execution_count": null,
      "outputs": []
    }
  ]
}